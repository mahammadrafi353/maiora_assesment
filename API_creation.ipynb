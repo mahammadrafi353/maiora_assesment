{
 "cells": [
  {
   "cell_type": "code",
   "execution_count": 51,
   "id": "69816bac-4dc8-4988-805c-e52e14e13a4c",
   "metadata": {},
   "outputs": [],
   "source": [
    "#importing required api and requests\n",
    "from fastapi import FastAPI\n",
    "import requests\n",
    "import sqlite3"
   ]
  },
  {
   "cell_type": "code",
   "execution_count": 37,
   "id": "54772ddd-0228-4f0e-970e-75087b4b6f9b",
   "metadata": {},
   "outputs": [],
   "source": [
    "app = FastAPI()\n",
    "\n",
    "# initializing database\n",
    "DB_NAME = \"jokes.db\""
   ]
  },
  {
   "cell_type": "code",
   "execution_count": 41,
   "id": "d9dc7a34-74bd-447f-98f6-491ac5bc22c3",
   "metadata": {},
   "outputs": [
    {
     "data": {
      "text/plain": [
       "<function __main__.init_db()>"
      ]
     },
     "execution_count": 41,
     "metadata": {},
     "output_type": "execute_result"
    }
   ],
   "source": [
    "def init_db():\n",
    "\n",
    "    \n",
    "    conn = sqlite3.connect(DB_NAME)\n",
    "    cursor = conn.cursor()\n",
    "    cursor.execute(\"\"\"\n",
    "\n",
    "    \n",
    "        CREATE TABLE IF NOT EXISTS jokes (\n",
    "            id INTEGER PRIMARY KEY AUTOINCREMENT,\n",
    "            \n",
    "            category TEXT,\n",
    "            type TEXT,\n",
    "            joke TEXT,\n",
    "            setup TEXT,\n",
    "            delivery TEXT,\n",
    "            nsfw BOOLEAN,\n",
    "            political BOOLEAN,\n",
    "            sexist BOOLEAN,\n",
    "            safe BOOLEAN,\n",
    "            lang TEXT\n",
    "        )\n",
    "    \"\"\")\n",
    "    conn.commit()\n",
    "    conn.close() \n",
    "init_db"
   ]
  },
  {
   "cell_type": "code",
   "execution_count": 43,
   "id": "14fb7555-551f-4598-ba96-8508b8dfc0aa",
   "metadata": {},
   "outputs": [],
   "source": [
    "#  fetching  jokes from external API function\n",
    "def fetch_jokes(count=100):\n",
    "    url = f\"https://v2.jokeapi.dev/joke/Any?amount={count}\"\n",
    "    response = requests.get(url)\n",
    "    if response.status_code == 200:\n",
    "        return response.json().get(\"jokes\", [])\n",
    "    return []"
   ]
  },
  {
   "cell_type": "code",
   "execution_count": 53,
   "id": "e30da04f-3d78-4117-b072-8d4ea5db04b3",
   "metadata": {},
   "outputs": [],
   "source": [
    "#save jokes to the database\n",
    "def save_jokes(jokes):\n",
    "    conn = sqlite3.connect(DB_NAME)\n",
    "    cursor = conn.cursor()\n",
    "    \n",
    "    for joke in jokes:\n",
    "        category = joke.get(\"category\", \"\")\n",
    "        \n",
    "        \n",
    "        joke_type = joke.get(\"type\", \"\")\n",
    "        joke_text = joke.get(\"joke\", \"\") if joke_type == \"single\" else \"\"\n",
    "        \n",
    "        setup = joke.get(\"setup\", \"\") if joke_type == \"twopart\" else \"\"\n",
    "        delivery = joke.get(\"delivery\", \"\") if joke_type == \"twopart\" else \"\"\n",
    "        nsfw = joke[\"flags\"][\"nsfw\"]\n",
    "        \n",
    "        political = joke[\"flags\"][\"political\"]\n",
    "        sexist = joke[\"flags\"][\"sexist\"]\n",
    "        safe = joke.get(\"safe\", False)\n",
    "        lang = joke.get(\"lang\", \"\")\n",
    "\n",
    "        cursor.execute(\"\"\"\n",
    "            INSERT INTO jokes (category, type, joke, setup, delivery, nsfw, political, sexist, safe, lang)\n",
    "            VALUES (?, ?, ?, ?, ?, ?, ?, ?, ?, ?)\n",
    "        \"\"\", (category, joke_type, joke_text, setup, delivery, nsfw, political, sexist, safe, lang))\n",
    "\n",
    "    conn.commit()\n",
    "    conn.close()"
   ]
  },
  {
   "cell_type": "code",
   "execution_count": 55,
   "id": "45ac28ec-5284-4796-9a03-ccdea66e2e40",
   "metadata": {},
   "outputs": [],
   "source": [
    "@app.get(\"/fetch_and_store_jokes\")\n",
    "def fetch_and_store():\n",
    "    jokes = fetch_jokes(100)\n",
    "    if jokes:\n",
    "        save_jokes(jokes)\n",
    "        return {\"message\": \"Jokes successfully fetched and stored\", \"total_jokes\": len(jokes)}\n",
    "    return {\"message\": \"Failed to fetch jokes\"}"
   ]
  },
  {
   "cell_type": "code",
   "execution_count": 57,
   "id": "5735e329-bd48-4bf5-b72c-e8889b2af039",
   "metadata": {},
   "outputs": [
    {
     "ename": "SyntaxError",
     "evalue": "invalid non-printable character U+00A0 (1143904632.py, line 8)",
     "output_type": "error",
     "traceback": [
      "\u001b[1;36m  Cell \u001b[1;32mIn[57], line 8\u001b[1;36m\u001b[0m\n\u001b[1;33m    return {\"jokes\": jokes}\u001b[0m\n\u001b[1;37m                    ^\u001b[0m\n\u001b[1;31mSyntaxError\u001b[0m\u001b[1;31m:\u001b[0m invalid non-printable character U+00A0\n"
     ]
    }
   ],
   "source": [
    "@app.get(\"/get_jokes\")\n",
    "def get_jokes():\n",
    "    conn = sqlite3.connect(DB_NAME)\n",
    "    cursor = conn.cursor()\n",
    "    cursor.execute(\"SELECT * FROM jokes LIMIT 10\")\n",
    "    jokes = cursor.fetchall()\n",
    "    conn.close()\n",
    "    return {\"jokes\": jokes}"
   ]
  },
  {
   "cell_type": "code",
   "execution_count": null,
   "id": "0f0e02ae-a5c1-49a4-9412-309255d3b609",
   "metadata": {},
   "outputs": [],
   "source": []
  }
 ],
 "metadata": {
  "kernelspec": {
   "display_name": "Python [conda env:anaconda3]",
   "language": "python",
   "name": "conda-env-anaconda3-py"
  },
  "language_info": {
   "codemirror_mode": {
    "name": "ipython",
    "version": 3
   },
   "file_extension": ".py",
   "mimetype": "text/x-python",
   "name": "python",
   "nbconvert_exporter": "python",
   "pygments_lexer": "ipython3",
   "version": "3.12.7"
  }
 },
 "nbformat": 4,
 "nbformat_minor": 5
}
