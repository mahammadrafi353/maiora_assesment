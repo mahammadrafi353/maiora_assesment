{
 "cells": [
  {
   "cell_type": "markdown",
   "id": "d31f8a73-5af6-40ed-93fa-99c651f1ae5f",
   "metadata": {},
   "source": [
    "#Practice set and below there are real code"
   ]
  },
  {
   "cell_type": "code",
   "execution_count": null,
   "id": "b2fb8783-24fc-4cc3-a092-93fab1b02db5",
   "metadata": {},
   "outputs": [],
   "source": [
    "import pandas as pd\n",
    "\n",
    "\n",
    "\n",
    "df1=pd.read_csv('order_region_a(in).csv')\n",
    "df2=pd.read_csv('order_region_b(in).csv')"
   ]
  },
  {
   "cell_type": "code",
   "execution_count": 20,
   "id": "d9d73fd7-5415-4194-a56e-0ae98a018a48",
   "metadata": {},
   "outputs": [
    {
     "data": {
      "text/html": [
       "<div>\n",
       "<style scoped>\n",
       "    .dataframe tbody tr th:only-of-type {\n",
       "        vertical-align: middle;\n",
       "    }\n",
       "\n",
       "    .dataframe tbody tr th {\n",
       "        vertical-align: top;\n",
       "    }\n",
       "\n",
       "    .dataframe thead th {\n",
       "        text-align: right;\n",
       "    }\n",
       "</style>\n",
       "<table border=\"1\" class=\"dataframe\">\n",
       "  <thead>\n",
       "    <tr style=\"text-align: right;\">\n",
       "      <th></th>\n",
       "      <th>OrderId</th>\n",
       "      <th>OrderItemId</th>\n",
       "      <th>QuantityOrdered</th>\n",
       "      <th>ItemPrice</th>\n",
       "      <th>PromotionDiscount</th>\n",
       "      <th>batch_id</th>\n",
       "    </tr>\n",
       "  </thead>\n",
       "  <tbody>\n",
       "    <tr>\n",
       "      <th>0</th>\n",
       "      <td>171-0001135-1657958</td>\n",
       "      <td>1.116890e+13</td>\n",
       "      <td>1</td>\n",
       "      <td>949.0</td>\n",
       "      <td>{ \"CurrencyCode\": \"INR\", \"Amount\": \"10\"}</td>\n",
       "      <td>359</td>\n",
       "    </tr>\n",
       "    <tr>\n",
       "      <th>1</th>\n",
       "      <td>171-0001497-9165123</td>\n",
       "      <td>1.976030e+13</td>\n",
       "      <td>1</td>\n",
       "      <td>699.0</td>\n",
       "      <td>{ \"CurrencyCode\": \"INR\", \"Amount\": \"10.1\"}</td>\n",
       "      <td>1135</td>\n",
       "    </tr>\n",
       "    <tr>\n",
       "      <th>2</th>\n",
       "      <td>171-0002127-1363507</td>\n",
       "      <td>5.949760e+12</td>\n",
       "      <td>1</td>\n",
       "      <td>399.0</td>\n",
       "      <td>{ \"CurrencyCode\": \"INR\", \"Amount\": \"10\"}</td>\n",
       "      <td>297</td>\n",
       "    </tr>\n",
       "    <tr>\n",
       "      <th>3</th>\n",
       "      <td>171-0002370-0601169</td>\n",
       "      <td>5.757190e+13</td>\n",
       "      <td>1</td>\n",
       "      <td>499.0</td>\n",
       "      <td>{ \"CurrencyCode\": \"INR\", \"Amount\": \"10.1\"}</td>\n",
       "      <td>114</td>\n",
       "    </tr>\n",
       "    <tr>\n",
       "      <th>4</th>\n",
       "      <td>171-0004526-2028348</td>\n",
       "      <td>3.385130e+13</td>\n",
       "      <td>1</td>\n",
       "      <td>1699.0</td>\n",
       "      <td>{ \"CurrencyCode\": \"INR\", \"Amount\": \"10\"}</td>\n",
       "      <td>764</td>\n",
       "    </tr>\n",
       "  </tbody>\n",
       "</table>\n",
       "</div>"
      ],
      "text/plain": [
       "               OrderId   OrderItemId  QuantityOrdered  ItemPrice  \\\n",
       "0  171-0001135-1657958  1.116890e+13                1      949.0   \n",
       "1  171-0001497-9165123  1.976030e+13                1      699.0   \n",
       "2  171-0002127-1363507  5.949760e+12                1      399.0   \n",
       "3  171-0002370-0601169  5.757190e+13                1      499.0   \n",
       "4  171-0004526-2028348  3.385130e+13                1     1699.0   \n",
       "\n",
       "                            PromotionDiscount  batch_id  \n",
       "0    { \"CurrencyCode\": \"INR\", \"Amount\": \"10\"}       359  \n",
       "1  { \"CurrencyCode\": \"INR\", \"Amount\": \"10.1\"}      1135  \n",
       "2    { \"CurrencyCode\": \"INR\", \"Amount\": \"10\"}       297  \n",
       "3  { \"CurrencyCode\": \"INR\", \"Amount\": \"10.1\"}       114  \n",
       "4    { \"CurrencyCode\": \"INR\", \"Amount\": \"10\"}       764  "
      ]
     },
     "execution_count": 20,
     "metadata": {},
     "output_type": "execute_result"
    }
   ],
   "source": [
    "df1.head(5)"
   ]
  },
  {
   "cell_type": "code",
   "execution_count": 22,
   "id": "d55486c6-d79c-44dd-b9e8-16b7973fe2b0",
   "metadata": {},
   "outputs": [
    {
     "data": {
      "text/html": [
       "<div>\n",
       "<style scoped>\n",
       "    .dataframe tbody tr th:only-of-type {\n",
       "        vertical-align: middle;\n",
       "    }\n",
       "\n",
       "    .dataframe tbody tr th {\n",
       "        vertical-align: top;\n",
       "    }\n",
       "\n",
       "    .dataframe thead th {\n",
       "        text-align: right;\n",
       "    }\n",
       "</style>\n",
       "<table border=\"1\" class=\"dataframe\">\n",
       "  <thead>\n",
       "    <tr style=\"text-align: right;\">\n",
       "      <th></th>\n",
       "      <th>OrderId</th>\n",
       "      <th>OrderItemId</th>\n",
       "      <th>QuantityOrdered</th>\n",
       "      <th>ItemPrice</th>\n",
       "      <th>PromotionDiscount</th>\n",
       "      <th>batch_id</th>\n",
       "    </tr>\n",
       "  </thead>\n",
       "  <tbody>\n",
       "    <tr>\n",
       "      <th>0</th>\n",
       "      <td>171-0001135-1657958</td>\n",
       "      <td>1.116890e+13</td>\n",
       "      <td>1</td>\n",
       "      <td>949.0</td>\n",
       "      <td>{ \"CurrencyCode\": \"INR\", \"Amount\": \"10\"}</td>\n",
       "      <td>359</td>\n",
       "    </tr>\n",
       "    <tr>\n",
       "      <th>1</th>\n",
       "      <td>171-0001497-9165123</td>\n",
       "      <td>1.976030e+13</td>\n",
       "      <td>1</td>\n",
       "      <td>699.0</td>\n",
       "      <td>{ \"CurrencyCode\": \"INR\", \"Amount\": \"10.1\"}</td>\n",
       "      <td>1135</td>\n",
       "    </tr>\n",
       "    <tr>\n",
       "      <th>2</th>\n",
       "      <td>171-0002127-1363507</td>\n",
       "      <td>5.949760e+12</td>\n",
       "      <td>1</td>\n",
       "      <td>399.0</td>\n",
       "      <td>{ \"CurrencyCode\": \"INR\", \"Amount\": \"10\"}</td>\n",
       "      <td>297</td>\n",
       "    </tr>\n",
       "    <tr>\n",
       "      <th>3</th>\n",
       "      <td>171-0002370-0601169</td>\n",
       "      <td>5.757190e+13</td>\n",
       "      <td>1</td>\n",
       "      <td>499.0</td>\n",
       "      <td>{ \"CurrencyCode\": \"INR\", \"Amount\": \"10.1\"}</td>\n",
       "      <td>114</td>\n",
       "    </tr>\n",
       "    <tr>\n",
       "      <th>4</th>\n",
       "      <td>171-0004526-2028348</td>\n",
       "      <td>3.385130e+13</td>\n",
       "      <td>1</td>\n",
       "      <td>1699.0</td>\n",
       "      <td>{ \"CurrencyCode\": \"INR\", \"Amount\": \"10\"}</td>\n",
       "      <td>764</td>\n",
       "    </tr>\n",
       "  </tbody>\n",
       "</table>\n",
       "</div>"
      ],
      "text/plain": [
       "               OrderId   OrderItemId  QuantityOrdered  ItemPrice  \\\n",
       "0  171-0001135-1657958  1.116890e+13                1      949.0   \n",
       "1  171-0001497-9165123  1.976030e+13                1      699.0   \n",
       "2  171-0002127-1363507  5.949760e+12                1      399.0   \n",
       "3  171-0002370-0601169  5.757190e+13                1      499.0   \n",
       "4  171-0004526-2028348  3.385130e+13                1     1699.0   \n",
       "\n",
       "                            PromotionDiscount  batch_id  \n",
       "0    { \"CurrencyCode\": \"INR\", \"Amount\": \"10\"}       359  \n",
       "1  { \"CurrencyCode\": \"INR\", \"Amount\": \"10.1\"}      1135  \n",
       "2    { \"CurrencyCode\": \"INR\", \"Amount\": \"10\"}       297  \n",
       "3  { \"CurrencyCode\": \"INR\", \"Amount\": \"10.1\"}       114  \n",
       "4    { \"CurrencyCode\": \"INR\", \"Amount\": \"10\"}       764  "
      ]
     },
     "execution_count": 22,
     "metadata": {},
     "output_type": "execute_result"
    }
   ],
   "source": [
    "df2.head(5)"
   ]
  },
  {
   "cell_type": "code",
   "execution_count": 38,
   "id": "77b08042-8979-4433-8e7a-45f66bcfa4ea",
   "metadata": {},
   "outputs": [],
   "source": [
    "new_df=pd.concat([df1,df2],axis=0)"
   ]
  },
  {
   "cell_type": "code",
   "execution_count": 40,
   "id": "03f6e43c-44c7-4f47-b52b-90cf011d223e",
   "metadata": {},
   "outputs": [
    {
     "data": {
      "text/html": [
       "<div>\n",
       "<style scoped>\n",
       "    .dataframe tbody tr th:only-of-type {\n",
       "        vertical-align: middle;\n",
       "    }\n",
       "\n",
       "    .dataframe tbody tr th {\n",
       "        vertical-align: top;\n",
       "    }\n",
       "\n",
       "    .dataframe thead th {\n",
       "        text-align: right;\n",
       "    }\n",
       "</style>\n",
       "<table border=\"1\" class=\"dataframe\">\n",
       "  <thead>\n",
       "    <tr style=\"text-align: right;\">\n",
       "      <th></th>\n",
       "      <th>OrderId</th>\n",
       "      <th>OrderItemId</th>\n",
       "      <th>QuantityOrdered</th>\n",
       "      <th>ItemPrice</th>\n",
       "      <th>PromotionDiscount</th>\n",
       "      <th>batch_id</th>\n",
       "    </tr>\n",
       "  </thead>\n",
       "  <tbody>\n",
       "    <tr>\n",
       "      <th>0</th>\n",
       "      <td>171-0001135-1657958</td>\n",
       "      <td>1.116890e+13</td>\n",
       "      <td>1</td>\n",
       "      <td>949.0</td>\n",
       "      <td>{ \"CurrencyCode\": \"INR\", \"Amount\": \"10\"}</td>\n",
       "      <td>359</td>\n",
       "    </tr>\n",
       "    <tr>\n",
       "      <th>1</th>\n",
       "      <td>171-0001497-9165123</td>\n",
       "      <td>1.976030e+13</td>\n",
       "      <td>1</td>\n",
       "      <td>699.0</td>\n",
       "      <td>{ \"CurrencyCode\": \"INR\", \"Amount\": \"10.1\"}</td>\n",
       "      <td>1135</td>\n",
       "    </tr>\n",
       "    <tr>\n",
       "      <th>2</th>\n",
       "      <td>171-0002127-1363507</td>\n",
       "      <td>5.949760e+12</td>\n",
       "      <td>1</td>\n",
       "      <td>399.0</td>\n",
       "      <td>{ \"CurrencyCode\": \"INR\", \"Amount\": \"10\"}</td>\n",
       "      <td>297</td>\n",
       "    </tr>\n",
       "    <tr>\n",
       "      <th>3</th>\n",
       "      <td>171-0002370-0601169</td>\n",
       "      <td>5.757190e+13</td>\n",
       "      <td>1</td>\n",
       "      <td>499.0</td>\n",
       "      <td>{ \"CurrencyCode\": \"INR\", \"Amount\": \"10.1\"}</td>\n",
       "      <td>114</td>\n",
       "    </tr>\n",
       "    <tr>\n",
       "      <th>4</th>\n",
       "      <td>171-0004526-2028348</td>\n",
       "      <td>3.385130e+13</td>\n",
       "      <td>1</td>\n",
       "      <td>1699.0</td>\n",
       "      <td>{ \"CurrencyCode\": \"INR\", \"Amount\": \"10\"}</td>\n",
       "      <td>764</td>\n",
       "    </tr>\n",
       "  </tbody>\n",
       "</table>\n",
       "</div>"
      ],
      "text/plain": [
       "               OrderId   OrderItemId  QuantityOrdered  ItemPrice  \\\n",
       "0  171-0001135-1657958  1.116890e+13                1      949.0   \n",
       "1  171-0001497-9165123  1.976030e+13                1      699.0   \n",
       "2  171-0002127-1363507  5.949760e+12                1      399.0   \n",
       "3  171-0002370-0601169  5.757190e+13                1      499.0   \n",
       "4  171-0004526-2028348  3.385130e+13                1     1699.0   \n",
       "\n",
       "                            PromotionDiscount  batch_id  \n",
       "0    { \"CurrencyCode\": \"INR\", \"Amount\": \"10\"}       359  \n",
       "1  { \"CurrencyCode\": \"INR\", \"Amount\": \"10.1\"}      1135  \n",
       "2    { \"CurrencyCode\": \"INR\", \"Amount\": \"10\"}       297  \n",
       "3  { \"CurrencyCode\": \"INR\", \"Amount\": \"10.1\"}       114  \n",
       "4    { \"CurrencyCode\": \"INR\", \"Amount\": \"10\"}       764  "
      ]
     },
     "execution_count": 40,
     "metadata": {},
     "output_type": "execute_result"
    }
   ],
   "source": [
    "new_df.head(5)"
   ]
  },
  {
   "cell_type": "code",
   "execution_count": 42,
   "id": "6eb1067a-f0bd-4b00-b3eb-748768b77953",
   "metadata": {},
   "outputs": [
    {
     "data": {
      "text/plain": [
       "44494"
      ]
     },
     "execution_count": 42,
     "metadata": {},
     "output_type": "execute_result"
    }
   ],
   "source": [
    "len(df1)"
   ]
  },
  {
   "cell_type": "code",
   "execution_count": 44,
   "id": "a0f61f71-4df5-404e-9d9a-572d9f1c03c2",
   "metadata": {},
   "outputs": [
    {
     "data": {
      "text/plain": [
       "44494"
      ]
     },
     "execution_count": 44,
     "metadata": {},
     "output_type": "execute_result"
    }
   ],
   "source": [
    "len(df2)"
   ]
  },
  {
   "cell_type": "code",
   "execution_count": 46,
   "id": "e4838384-cc8a-4648-99aa-05203bf41eea",
   "metadata": {},
   "outputs": [
    {
     "data": {
      "text/plain": [
       "88988"
      ]
     },
     "execution_count": 46,
     "metadata": {},
     "output_type": "execute_result"
    }
   ],
   "source": [
    "len(new_df)"
   ]
  },
  {
   "cell_type": "code",
   "execution_count": null,
   "id": "08d767d7-7ae5-483e-bb87-09cc246f8975",
   "metadata": {},
   "outputs": [],
   "source": []
  },
  {
   "cell_type": "code",
   "execution_count": null,
   "id": "f2fd5807-b4f9-4e01-b53d-86b612242d51",
   "metadata": {},
   "outputs": [],
   "source": []
  },
  {
   "cell_type": "code",
   "execution_count": null,
   "id": "ad99e8b7-f577-49b8-909c-4270e7757780",
   "metadata": {},
   "outputs": [],
   "source": []
  },
  {
   "cell_type": "code",
   "execution_count": null,
   "id": "21a333f0-29ca-43b4-bc5c-f15914f0c187",
   "metadata": {},
   "outputs": [],
   "source": []
  },
  {
   "cell_type": "code",
   "execution_count": null,
   "id": "2477369e-1e7c-4883-8fec-a02b396f063b",
   "metadata": {},
   "outputs": [],
   "source": []
  },
  {
   "cell_type": "code",
   "execution_count": null,
   "id": "e9ac7ebe-79c8-4405-9dfd-ff6b457e3e75",
   "metadata": {},
   "outputs": [],
   "source": []
  },
  {
   "cell_type": "code",
   "execution_count": null,
   "id": "7250ee01-a830-439c-89ad-e426ebca7cc3",
   "metadata": {},
   "outputs": [],
   "source": []
  },
  {
   "cell_type": "raw",
   "id": "7b01f663-c302-442f-90a6-1f54430679a8",
   "metadata": {},
   "source": [
    "# Actal code starts from here "
   ]
  },
  {
   "cell_type": "code",
   "execution_count": null,
   "id": "8817b3a8-0715-441a-b95c-b581859e271b",
   "metadata": {},
   "outputs": [],
   "source": []
  },
  {
   "cell_type": "code",
   "execution_count": 130,
   "id": "4384f6c9-de99-4608-87fa-93a40327b254",
   "metadata": {},
   "outputs": [],
   "source": [
    "#importing required libraries \n",
    "import pandas as pd"
   ]
  },
  {
   "cell_type": "code",
   "execution_count": 132,
   "id": "abaebd17-f4e0-4aa5-b4b0-52a5ba8bebed",
   "metadata": {},
   "outputs": [],
   "source": [
    "#writing a function to read data from files\n",
    "\n",
    "def read_data(file_path):\n",
    "    try:\n",
    "        df=pd.read_csv(file_path)\n",
    "        return df\n",
    "    except Exception as e:\n",
    "        print(f\"error Reading{file_path} :{e}\")\n",
    "        return None\n",
    "\n",
    "        "
   ]
  },
  {
   "cell_type": "code",
   "execution_count": 134,
   "id": "dc14093e-3240-4508-9ebf-f3e01f4d0617",
   "metadata": {},
   "outputs": [],
   "source": [
    "res1=read_data('order_region_a(in).csv')"
   ]
  },
  {
   "cell_type": "code",
   "execution_count": 136,
   "id": "59a7cc2c-bb85-4c66-b5ad-17c76b972a76",
   "metadata": {},
   "outputs": [
    {
     "data": {
      "text/html": [
       "<div>\n",
       "<style scoped>\n",
       "    .dataframe tbody tr th:only-of-type {\n",
       "        vertical-align: middle;\n",
       "    }\n",
       "\n",
       "    .dataframe tbody tr th {\n",
       "        vertical-align: top;\n",
       "    }\n",
       "\n",
       "    .dataframe thead th {\n",
       "        text-align: right;\n",
       "    }\n",
       "</style>\n",
       "<table border=\"1\" class=\"dataframe\">\n",
       "  <thead>\n",
       "    <tr style=\"text-align: right;\">\n",
       "      <th></th>\n",
       "      <th>OrderId</th>\n",
       "      <th>OrderItemId</th>\n",
       "      <th>QuantityOrdered</th>\n",
       "      <th>ItemPrice</th>\n",
       "      <th>PromotionDiscount</th>\n",
       "      <th>batch_id</th>\n",
       "    </tr>\n",
       "  </thead>\n",
       "  <tbody>\n",
       "    <tr>\n",
       "      <th>0</th>\n",
       "      <td>171-0001135-1657958</td>\n",
       "      <td>1.116890e+13</td>\n",
       "      <td>1</td>\n",
       "      <td>949.0</td>\n",
       "      <td>{ \"CurrencyCode\": \"INR\", \"Amount\": \"10\"}</td>\n",
       "      <td>359</td>\n",
       "    </tr>\n",
       "    <tr>\n",
       "      <th>1</th>\n",
       "      <td>171-0001497-9165123</td>\n",
       "      <td>1.976030e+13</td>\n",
       "      <td>1</td>\n",
       "      <td>699.0</td>\n",
       "      <td>{ \"CurrencyCode\": \"INR\", \"Amount\": \"10.1\"}</td>\n",
       "      <td>1135</td>\n",
       "    </tr>\n",
       "    <tr>\n",
       "      <th>2</th>\n",
       "      <td>171-0002127-1363507</td>\n",
       "      <td>5.949760e+12</td>\n",
       "      <td>1</td>\n",
       "      <td>399.0</td>\n",
       "      <td>{ \"CurrencyCode\": \"INR\", \"Amount\": \"10\"}</td>\n",
       "      <td>297</td>\n",
       "    </tr>\n",
       "    <tr>\n",
       "      <th>3</th>\n",
       "      <td>171-0002370-0601169</td>\n",
       "      <td>5.757190e+13</td>\n",
       "      <td>1</td>\n",
       "      <td>499.0</td>\n",
       "      <td>{ \"CurrencyCode\": \"INR\", \"Amount\": \"10.1\"}</td>\n",
       "      <td>114</td>\n",
       "    </tr>\n",
       "    <tr>\n",
       "      <th>4</th>\n",
       "      <td>171-0004526-2028348</td>\n",
       "      <td>3.385130e+13</td>\n",
       "      <td>1</td>\n",
       "      <td>1699.0</td>\n",
       "      <td>{ \"CurrencyCode\": \"INR\", \"Amount\": \"10\"}</td>\n",
       "      <td>764</td>\n",
       "    </tr>\n",
       "  </tbody>\n",
       "</table>\n",
       "</div>"
      ],
      "text/plain": [
       "               OrderId   OrderItemId  QuantityOrdered  ItemPrice  \\\n",
       "0  171-0001135-1657958  1.116890e+13                1      949.0   \n",
       "1  171-0001497-9165123  1.976030e+13                1      699.0   \n",
       "2  171-0002127-1363507  5.949760e+12                1      399.0   \n",
       "3  171-0002370-0601169  5.757190e+13                1      499.0   \n",
       "4  171-0004526-2028348  3.385130e+13                1     1699.0   \n",
       "\n",
       "                            PromotionDiscount  batch_id  \n",
       "0    { \"CurrencyCode\": \"INR\", \"Amount\": \"10\"}       359  \n",
       "1  { \"CurrencyCode\": \"INR\", \"Amount\": \"10.1\"}      1135  \n",
       "2    { \"CurrencyCode\": \"INR\", \"Amount\": \"10\"}       297  \n",
       "3  { \"CurrencyCode\": \"INR\", \"Amount\": \"10.1\"}       114  \n",
       "4    { \"CurrencyCode\": \"INR\", \"Amount\": \"10\"}       764  "
      ]
     },
     "execution_count": 136,
     "metadata": {},
     "output_type": "execute_result"
    }
   ],
   "source": [
    "res1.head(5)"
   ]
  },
  {
   "cell_type": "code",
   "execution_count": 138,
   "id": "571fcc5c-43a2-425b-bf03-5240b9600ad7",
   "metadata": {},
   "outputs": [],
   "source": [
    "res2=read_data('order_region_b(in).csv')"
   ]
  },
  {
   "cell_type": "code",
   "execution_count": 140,
   "id": "5b703481-e74a-4d9e-827d-f245205fe450",
   "metadata": {},
   "outputs": [
    {
     "data": {
      "text/html": [
       "<div>\n",
       "<style scoped>\n",
       "    .dataframe tbody tr th:only-of-type {\n",
       "        vertical-align: middle;\n",
       "    }\n",
       "\n",
       "    .dataframe tbody tr th {\n",
       "        vertical-align: top;\n",
       "    }\n",
       "\n",
       "    .dataframe thead th {\n",
       "        text-align: right;\n",
       "    }\n",
       "</style>\n",
       "<table border=\"1\" class=\"dataframe\">\n",
       "  <thead>\n",
       "    <tr style=\"text-align: right;\">\n",
       "      <th></th>\n",
       "      <th>OrderId</th>\n",
       "      <th>OrderItemId</th>\n",
       "      <th>QuantityOrdered</th>\n",
       "      <th>ItemPrice</th>\n",
       "      <th>PromotionDiscount</th>\n",
       "      <th>batch_id</th>\n",
       "    </tr>\n",
       "  </thead>\n",
       "  <tbody>\n",
       "    <tr>\n",
       "      <th>0</th>\n",
       "      <td>171-0001135-1657958</td>\n",
       "      <td>1.116890e+13</td>\n",
       "      <td>1</td>\n",
       "      <td>949.0</td>\n",
       "      <td>{ \"CurrencyCode\": \"INR\", \"Amount\": \"10\"}</td>\n",
       "      <td>359</td>\n",
       "    </tr>\n",
       "    <tr>\n",
       "      <th>1</th>\n",
       "      <td>171-0001497-9165123</td>\n",
       "      <td>1.976030e+13</td>\n",
       "      <td>1</td>\n",
       "      <td>699.0</td>\n",
       "      <td>{ \"CurrencyCode\": \"INR\", \"Amount\": \"10.1\"}</td>\n",
       "      <td>1135</td>\n",
       "    </tr>\n",
       "    <tr>\n",
       "      <th>2</th>\n",
       "      <td>171-0002127-1363507</td>\n",
       "      <td>5.949760e+12</td>\n",
       "      <td>1</td>\n",
       "      <td>399.0</td>\n",
       "      <td>{ \"CurrencyCode\": \"INR\", \"Amount\": \"10\"}</td>\n",
       "      <td>297</td>\n",
       "    </tr>\n",
       "    <tr>\n",
       "      <th>3</th>\n",
       "      <td>171-0002370-0601169</td>\n",
       "      <td>5.757190e+13</td>\n",
       "      <td>1</td>\n",
       "      <td>499.0</td>\n",
       "      <td>{ \"CurrencyCode\": \"INR\", \"Amount\": \"10.1\"}</td>\n",
       "      <td>114</td>\n",
       "    </tr>\n",
       "    <tr>\n",
       "      <th>4</th>\n",
       "      <td>171-0004526-2028348</td>\n",
       "      <td>3.385130e+13</td>\n",
       "      <td>1</td>\n",
       "      <td>1699.0</td>\n",
       "      <td>{ \"CurrencyCode\": \"INR\", \"Amount\": \"10\"}</td>\n",
       "      <td>764</td>\n",
       "    </tr>\n",
       "  </tbody>\n",
       "</table>\n",
       "</div>"
      ],
      "text/plain": [
       "               OrderId   OrderItemId  QuantityOrdered  ItemPrice  \\\n",
       "0  171-0001135-1657958  1.116890e+13                1      949.0   \n",
       "1  171-0001497-9165123  1.976030e+13                1      699.0   \n",
       "2  171-0002127-1363507  5.949760e+12                1      399.0   \n",
       "3  171-0002370-0601169  5.757190e+13                1      499.0   \n",
       "4  171-0004526-2028348  3.385130e+13                1     1699.0   \n",
       "\n",
       "                            PromotionDiscount  batch_id  \n",
       "0    { \"CurrencyCode\": \"INR\", \"Amount\": \"10\"}       359  \n",
       "1  { \"CurrencyCode\": \"INR\", \"Amount\": \"10.1\"}      1135  \n",
       "2    { \"CurrencyCode\": \"INR\", \"Amount\": \"10\"}       297  \n",
       "3  { \"CurrencyCode\": \"INR\", \"Amount\": \"10.1\"}       114  \n",
       "4    { \"CurrencyCode\": \"INR\", \"Amount\": \"10\"}       764  "
      ]
     },
     "execution_count": 140,
     "metadata": {},
     "output_type": "execute_result"
    }
   ],
   "source": [
    "res2.head(5)"
   ]
  },
  {
   "cell_type": "code",
   "execution_count": 142,
   "id": "6f55293c-3026-4365-a098-a2d50d0cb812",
   "metadata": {},
   "outputs": [],
   "source": [
    "#Concatinating two tables to create new table\n",
    "\n",
    "def concat(data1,data2):\n",
    "    try:\n",
    "        new_df=pd.concat([data1,data2],axis=0)\n",
    "        return new_df\n",
    "    except Exception as e:\n",
    "        print(\"not posiible\")\n",
    "        return None"
   ]
  },
  {
   "cell_type": "code",
   "execution_count": 144,
   "id": "71900d43-d493-426a-802a-6a0dd6cec603",
   "metadata": {},
   "outputs": [],
   "source": [
    "total_data=concat(res1,res2)"
   ]
  },
  {
   "cell_type": "code",
   "execution_count": 146,
   "id": "cbb00901-a8ab-4120-b7d5-652f97f699da",
   "metadata": {},
   "outputs": [
    {
     "data": {
      "text/plain": [
       "88988"
      ]
     },
     "execution_count": 146,
     "metadata": {},
     "output_type": "execute_result"
    }
   ],
   "source": [
    "len(total_data)"
   ]
  },
  {
   "cell_type": "code",
   "execution_count": 148,
   "id": "48b202fa-ea3e-457d-8537-fa5461d54bcf",
   "metadata": {},
   "outputs": [
    {
     "data": {
      "text/plain": [
       "pandas.core.series.Series"
      ]
     },
     "execution_count": 148,
     "metadata": {},
     "output_type": "execute_result"
    }
   ],
   "source": [
    "type(total_data['PromotionDiscount'])"
   ]
  },
  {
   "cell_type": "code",
   "execution_count": 150,
   "id": "acd0b42e-cc72-4bd9-9c9e-a4aef898766d",
   "metadata": {},
   "outputs": [
    {
     "data": {
      "text/plain": [
       "0          { \"CurrencyCode\": \"INR\", \"Amount\": \"10\"}\n",
       "1        { \"CurrencyCode\": \"INR\", \"Amount\": \"10.1\"}\n",
       "2          { \"CurrencyCode\": \"INR\", \"Amount\": \"10\"}\n",
       "3        { \"CurrencyCode\": \"INR\", \"Amount\": \"10.1\"}\n",
       "4          { \"CurrencyCode\": \"INR\", \"Amount\": \"10\"}\n",
       "                            ...                    \n",
       "44489    { \"CurrencyCode\": \"INR\", \"Amount\": \"10.1\"}\n",
       "44490      { \"CurrencyCode\": \"INR\", \"Amount\": \"10\"}\n",
       "44491    { \"CurrencyCode\": \"INR\", \"Amount\": \"10.1\"}\n",
       "44492      { \"CurrencyCode\": \"INR\", \"Amount\": \"10\"}\n",
       "44493    { \"CurrencyCode\": \"INR\", \"Amount\": \"10.1\"}\n",
       "Name: PromotionDiscount, Length: 88988, dtype: object"
      ]
     },
     "execution_count": 150,
     "metadata": {},
     "output_type": "execute_result"
    }
   ],
   "source": [
    "total_data['PromotionDiscount']"
   ]
  },
  {
   "cell_type": "code",
   "execution_count": 152,
   "id": "d1cd0c6e-c90d-47f4-b82b-d207667587e4",
   "metadata": {},
   "outputs": [],
   "source": [
    "#Here 'promotiondiscountcolumn'is s dictionary type we need to convert it into integer valuevalue, we \n",
    "import ast \n",
    "def convert_dict(strn):\n",
    "    l=[]\n",
    "    l2=[]\n",
    "    for i in strn:\n",
    "        l.append(ast.literal_eval(i))\n",
    "    for j in l:\n",
    "        l2.append(l[1].get('Amount')) \n",
    "    return l2"
   ]
  },
  {
   "cell_type": "code",
   "execution_count": 154,
   "id": "07914a33-d18c-4c26-a0f5-e7bc69dd2940",
   "metadata": {},
   "outputs": [],
   "source": [
    "total_data['PromotionDiscount']=convert_dict(total_data['PromotionDiscount'])"
   ]
  },
  {
   "cell_type": "code",
   "execution_count": 155,
   "id": "72b1a08b-3eca-4554-bddb-7e780dbb3199",
   "metadata": {},
   "outputs": [
    {
     "data": {
      "text/plain": [
       "0        10.1\n",
       "1        10.1\n",
       "2        10.1\n",
       "3        10.1\n",
       "4        10.1\n",
       "         ... \n",
       "44489    10.1\n",
       "44490    10.1\n",
       "44491    10.1\n",
       "44492    10.1\n",
       "44493    10.1\n",
       "Name: PromotionDiscount, Length: 88988, dtype: object"
      ]
     },
     "execution_count": 155,
     "metadata": {},
     "output_type": "execute_result"
    }
   ],
   "source": [
    "total_data['PromotionDiscount']"
   ]
  },
  {
   "cell_type": "code",
   "execution_count": null,
   "id": "7657ca5e-997b-4e16-83d4-e6bd004fba19",
   "metadata": {},
   "outputs": [],
   "source": []
  },
  {
   "cell_type": "code",
   "execution_count": null,
   "id": "f1c4995c-d53f-4dc5-8ca1-96e883368e06",
   "metadata": {},
   "outputs": [],
   "source": [
    "def transform_data(df):\n",
    "    #creating new_column\n",
    "    df['total_sales']=df['QuantityOrdered']*df['ItemPrice']\n",
    "    #  creating new column as diff between total sale and promotiondiscount\n",
    "    df['net_sale']=df['total_sales']-df['PromotionDiscount'] \n",
    "    #applying condition for net sale\n",
    "    df=df[df['net_sale']>0]\n",
    "    #droping duplicate values\n",
    "    df.drop_duplicates(subset=['OrderId'],keep='first',inplace=True)\n",
    "\n",
    "    return df"
   ]
  },
  {
   "cell_type": "code",
   "execution_count": null,
   "id": "5dd8d23b-0edb-4440-9908-a91509915225",
   "metadata": {},
   "outputs": [],
   "source": [
    "transform_data(total_data)"
   ]
  },
  {
   "cell_type": "code",
   "execution_count": null,
   "id": "af55f8ca-e3c9-4af9-bf22-259cda541ce3",
   "metadata": {},
   "outputs": [],
   "source": []
  },
  {
   "cell_type": "code",
   "execution_count": null,
   "id": "c833defa-0635-466a-9e8b-c1f5fcdddda1",
   "metadata": {},
   "outputs": [],
   "source": []
  },
  {
   "cell_type": "code",
   "execution_count": 162,
   "id": "842c9cdf-b63c-4407-a2fa-4844efe27b29",
   "metadata": {},
   "outputs": [],
   "source": [
    "#creating connection to import data\n",
    "\n",
    "import sqlite3"
   ]
  },
  {
   "cell_type": "code",
   "execution_count": 166,
   "id": "bd6ae831-7bde-4426-b138-d9d2bd6f57b4",
   "metadata": {},
   "outputs": [],
   "source": [
    "#function to creating table\n",
    "def load_data(df, db_name=\"sales.db\"):\n",
    "    conn = sqlite3.connect(db_name)\n",
    "    cursor = conn.cursor()\n",
    "\n",
    "    cursor.execute(\"\"\"\n",
    "        CREATE TABLE IF NOT EXISTS sales_data (\n",
    "            OrderId INTEGER PRIMARY KEY,\n",
    "            OrderItemId INTEGER,\n",
    "            QuantityOrdered INTEGER,\n",
    "            ItemPrice REAL,\n",
    "            PromotionDiscount REAL,\n",
    "            total_sales REAL,\n",
    "            net_sale REAL,\n",
    "            region TEXT\n",
    "        )\n",
    "    \"\"\")"
   ]
  },
  {
   "cell_type": "code",
   "execution_count": null,
   "id": "3390256a-9343-4195-bd08-e2423cc259fa",
   "metadata": {},
   "outputs": [],
   "source": []
  },
  {
   "cell_type": "code",
   "execution_count": null,
   "id": "14a6d2ed-98d4-428b-8bf4-b3ccf48829a1",
   "metadata": {},
   "outputs": [],
   "source": []
  },
  {
   "cell_type": "code",
   "execution_count": null,
   "id": "a76f38e2-aa06-4df9-a862-5b244b20ba8b",
   "metadata": {},
   "outputs": [],
   "source": []
  },
  {
   "cell_type": "code",
   "execution_count": null,
   "id": "9dfd9064-dad8-44a5-bba5-182419c0b9f1",
   "metadata": {},
   "outputs": [],
   "source": []
  },
  {
   "cell_type": "code",
   "execution_count": null,
   "id": "02b2de22-77d6-490f-af6f-8ddeff00183e",
   "metadata": {},
   "outputs": [],
   "source": []
  },
  {
   "cell_type": "code",
   "execution_count": null,
   "id": "abcb499d-1001-41cd-ad1b-abc5dbfc9774",
   "metadata": {},
   "outputs": [],
   "source": []
  },
  {
   "cell_type": "code",
   "execution_count": null,
   "id": "d9af8f11-2d38-4e1b-9f96-b4e20b381c49",
   "metadata": {},
   "outputs": [],
   "source": []
  }
 ],
 "metadata": {
  "kernelspec": {
   "display_name": "Python [conda env:anaconda3]",
   "language": "python",
   "name": "conda-env-anaconda3-py"
  },
  "language_info": {
   "codemirror_mode": {
    "name": "ipython",
    "version": 3
   },
   "file_extension": ".py",
   "mimetype": "text/x-python",
   "name": "python",
   "nbconvert_exporter": "python",
   "pygments_lexer": "ipython3",
   "version": "3.12.7"
  }
 },
 "nbformat": 4,
 "nbformat_minor": 5
}
